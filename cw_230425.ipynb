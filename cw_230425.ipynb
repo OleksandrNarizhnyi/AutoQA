{
 "cells": [
  {
   "cell_type": "code",
   "execution_count": null,
   "id": "initial_id",
   "metadata": {
    "collapsed": true
   },
   "outputs": [],
   "source": [
    "space_mission = {\n",
    " \"Название\": \"Artemis I\",\n",
    " \"Год запуска\": 2022,\n",
    " \"Страна\": \"США\",\n",
    " \"Экипаж\": None, # Беспилотная миссия\n",
    " \"Продолжительность (дней)\": 25,\n",
    " \"Оборудование\": [\"Орион\", \"Сервисный модуль\", \"Манекены с датчиками\"],\n",
    " \"Результаты\": {\n",
    "     \"Дальность полёта (км)\": 432000,\n",
    "     \"Тестирование систем\": \"Успешно\",\n",
    "     \"Возвращение на Землю\": True,\n",
    "     \"Данные о радиации\": {\n",
    "            \"Общая доза (мЗв)\": 12.5,\n",
    "            \"Максимум на орбите Луны (мЗв)\": 8.2\n",
    "             }\n",
    "     }\n",
    "}\n",
    "print(space_mission[\"Название\"]) # Artemis I\n",
    "print(space_mission[\"Год запуска\"]) # 2022\n",
    "\n",
    "# Список в словаре\n",
    "print(space_mission[\"Оборудование\"][1]) # Сервисный модуль\n",
    "\n",
    "# Вложенные словари\n",
    "print(space_mission[\"Результаты\"][\"Дальность полёта (км)\"]) # 432000\n",
    "print(space_mission[\"Результаты\"][\"Данные о радиации\"][\"Максимум на орбите Луны (мЗв)\"]) # 8.2\n",
    "\n",
    "# Изменение значений\n",
    "space_mission[\"Продолжительность (дней)\"] = 30 # Меняем продолжительность миссии\n",
    "space_mission[\"Результаты\"][\"Тестирование систем\"] = \"Частично успешно\" # Меняем результат теста\n",
    "\n",
    "# Добавление новых данных\n",
    "space_mission[\"Цель\"] = \"Испытание технологий для полётов на Луну\"\n",
    "space_mission[\"Результаты\"][\"Температура корпуса\"] = \"Средняя: 50°C, Максимальная: 80°C\"\n",
    "\n",
    "# Удаление элементов\n",
    "del space_mission[\"Экипаж\"] # Удаляем экипаж (т.к. беспилотная миссия)\n",
    "deleted = space_mission[\"Результаты\"].pop(\"Возвращение на Землю\", \"Нет данных\") # Удаляем и получаем значение\n",
    "\n",
    "# Вывод всех ключей и значений\n",
    "for key, value in space_mission.items():\n",
    "    print(f\"{key}: {value}\")\n",
    "\n",
    "# Перебор вложенного словаря\n",
    "for key, value in space_mission[\"Результаты\"].items():\n",
    "    print(f\"{key}: {value}\")\n",
    "\n",
    "# Основные моменты работы со словарями\n",
    "# Ключи – уникальные, могут быть строками, числами.\n",
    "# Значения – любые данные (числа, строки, списки, другие словари).\n",
    "# Доступ – dict[key], .get().\n",
    "# Изменение – просто присваиваем новое значение.\n",
    "# Перебор – .items(), .keys(), .values().\n",
    "# Удаление – del, .pop()."
   ]
  },
  {
   "metadata": {
    "ExecuteTime": {
     "end_time": "2025-04-23T07:28:17.893765Z",
     "start_time": "2025-04-23T07:28:17.791508Z"
    }
   },
   "cell_type": "code",
   "source": [
    "import json\n",
    "company_json = \"\"\"\n",
    "{\n",
    "    \"id\": 111,\n",
    "    \"isActive\": true,\n",
    "    \"createDateTime\": \"2024-04-05T17:30:00.713Z\",\n",
    "    \"lastChangedDateTime\": \"2024-04-05T17:30:00.713Z\",\n",
    "    \"name\": \"Барбершоп 'Цирюльникъ'\",\n",
    "    \"description\": \"Крутые стрижки для крутых шишек\"\n",
    "}\n",
    "\"\"\"\n",
    "def test_parse_json():\n",
    "     company = json.loads(company_json) # Преобразуем JSON в словарь\n",
    "     print(type(company))\n",
    "     assert company[\"id\"] == 111 # Проверяем значение ключа \"id\"\n",
    "test_parse_json(company)"
   ],
   "id": "1f57b7847399c9cd",
   "outputs": [
    {
     "ename": "NameError",
     "evalue": "name 'company' is not defined",
     "output_type": "error",
     "traceback": [
      "\u001B[31m---------------------------------------------------------------------------\u001B[39m",
      "\u001B[31mNameError\u001B[39m                                 Traceback (most recent call last)",
      "\u001B[36mCell\u001B[39m\u001B[36m \u001B[39m\u001B[32mIn[2]\u001B[39m\u001B[32m, line 16\u001B[39m\n\u001B[32m     14\u001B[39m      \u001B[38;5;28mprint\u001B[39m(\u001B[38;5;28mtype\u001B[39m(company))\n\u001B[32m     15\u001B[39m      \u001B[38;5;28;01massert\u001B[39;00m company[\u001B[33m\"\u001B[39m\u001B[33mid\u001B[39m\u001B[33m\"\u001B[39m] == \u001B[32m111\u001B[39m \u001B[38;5;66;03m# Проверяем значение ключа \"id\"\u001B[39;00m\n\u001B[32m---> \u001B[39m\u001B[32m16\u001B[39m test_parse_json(\u001B[43mcompany\u001B[49m)\n",
      "\u001B[31mNameError\u001B[39m: name 'company' is not defined"
     ]
    }
   ],
   "execution_count": 2
  },
  {
   "metadata": {},
   "cell_type": "code",
   "outputs": [],
   "execution_count": null,
   "source": [
    "company_list_json = \"\"\"\n",
    "[\n",
    "    {\n",
    "        \"id\": 111,\n",
    "        \"isActive\": true,\n",
    "        \"createDateTime\": \"2024-04-05T17:30:00.713Z\",\n",
    "        \"lastChangedDateTime\": \"2024-04-05T17:30:00.713Z\",\n",
    "        \"name\": \"Барбершоп 'Цирюльникъ'\",\n",
    "        \"description\": \"Крутые стрижки для крутых шишек\"\n",
    "    },\n",
    "    {\n",
    "        \"id\": 112,\n",
    "        \"isActive\": true,\n",
    "        \"createDateTime\": \"2024-04-05T17:30:00.713Z\",\n",
    "        \"lastChangedDateTime\": \"2024-04-05T17:30:00.713Z\",\n",
    "        \"name\": \"Кондитерская Профи-троли\",\n",
    "        \"description\": \"Сладко и точка\"\n",
    "    },\n",
    "    {\n",
    "        \"id\": 113,\n",
    "        \"isActive\": true,\n",
    "        \"createDateTime\": \"2024-04-05T17:30:00.713Z\",\n",
    "        \"lastChangedDateTime\": \"2024-04-05T17:30:00.713Z\",\n",
    "        \"name\": \"Муж на час\",\n",
    "        \"description\": \"Помощь в делах\"\n",
    "    }\n",
    "]\n",
    "\"\"\""
   ],
   "id": "62896b7ac44d0ce6"
  },
  {
   "metadata": {
    "ExecuteTime": {
     "end_time": "2025-04-23T07:36:00.590624Z",
     "start_time": "2025-04-23T07:36:00.575621Z"
    }
   },
   "cell_type": "code",
   "source": [
    "def test_parse_array_json():\n",
    "     company_list = json.loads(company_list_json)\n",
    "\n",
    "     first_company = company_list[0] # Первая компания (индекс 0)\n",
    "     assert len(company_list) == 3\n",
    "     assert first_company[\"name\"] == \"Барбершоп 'Цирюльникъ'\" # Проверяем название компании\n",
    "     # Проверяем ID второй компании\n",
    "     assert company_list[1][\"id\"] == 112\n",
    "\n",
    "# JSONобъект (словарь) в Python превращается в обычный dict.\n",
    "# JSONмассив (список объектов) превращается в list со словарями внутри.\n",
    "# Для работы с JSON используем json.loads(), который превращает строку\n",
    "# JSON в объект Python.\n",
    "# Теперь мы можем извлекать и проверять данные при тестировании API."
   ],
   "id": "6853817904395ba4",
   "outputs": [],
   "execution_count": 4
  },
  {
   "metadata": {
    "ExecuteTime": {
     "end_time": "2025-04-23T07:42:01.148369Z",
     "start_time": "2025-04-23T07:42:01.141277Z"
    }
   },
   "cell_type": "code",
   "source": [
    "import json\n",
    "\n",
    "invalid_json = \"\"\"{\n",
    "     \"id\": 111,\n",
    "     \"name\": \"Test Company\"\n",
    "}\"\"\" # Неправильные одинарные кавычки\n",
    "\n",
    "try:\n",
    "    data = json.loads(invalid_json)\n",
    "except json.JSONDecodeError as e:\n",
    "    print(f\"Ошибка при разборе JSON: {e}\")"
   ],
   "id": "82f2246c7202dfdd",
   "outputs": [],
   "execution_count": 7
  }
 ],
 "metadata": {
  "kernelspec": {
   "display_name": "Python 3",
   "language": "python",
   "name": "python3"
  },
  "language_info": {
   "codemirror_mode": {
    "name": "ipython",
    "version": 2
   },
   "file_extension": ".py",
   "mimetype": "text/x-python",
   "name": "python",
   "nbconvert_exporter": "python",
   "pygments_lexer": "ipython2",
   "version": "2.7.6"
  }
 },
 "nbformat": 4,
 "nbformat_minor": 5
}
